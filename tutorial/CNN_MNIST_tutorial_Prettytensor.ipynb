{
 "cells": [
  {
   "cell_type": "code",
   "execution_count": 1,
   "metadata": {
    "collapsed": true
   },
   "outputs": [],
   "source": [
    "# ---------------------------------------------------------------------------------------------- \n",
    "# the purpose of this code is to classify mnist data with pretty tensor\n",
    "# when i write this code, i refered to https://github.com/Hvass-Labs/TensorFlow-Tutorials\n",
    "# I am not so good at English. So please be good to understand my awkward English. \n",
    "# ----------------------------------------------------------------------------------------------"
   ]
  },
  {
   "cell_type": "code",
   "execution_count": 2,
   "metadata": {
    "collapsed": true
   },
   "outputs": [],
   "source": [
    "# import modules\n",
    "import tensorflow as tf\n",
    "import numpy as np\n",
    "import matplotlib.pyplot as plt\n",
    "from sklearn.metrics import confusion_matrix\n",
    "import prettytensor as pt"
   ]
  },
  {
   "cell_type": "code",
   "execution_count": 3,
   "metadata": {},
   "outputs": [
    {
     "name": "stdout",
     "output_type": "stream",
     "text": [
      "Extracting data/MNIST/train-images-idx3-ubyte.gz\n",
      "Extracting data/MNIST/train-labels-idx1-ubyte.gz\n",
      "Extracting data/MNIST/t10k-images-idx3-ubyte.gz\n",
      "Extracting data/MNIST/t10k-labels-idx1-ubyte.gz\n"
     ]
    }
   ],
   "source": [
    "# import input_data\n",
    "from tensorflow.examples.tutorials.mnist import input_data\n",
    "data = input_data.read_data_sets('data/MNIST/',one_hot = True)"
   ]
  },
  {
   "cell_type": "code",
   "execution_count": 4,
   "metadata": {
    "collapsed": true
   },
   "outputs": [],
   "source": [
    "# parameta\n",
    "img_size = 28\n",
    "img_shape = (28,28)\n",
    "img_flat_length = 28*28*1\n",
    "num_channel = 1\n",
    "filter_size1 = 5\n",
    "num_filters1 = 16\n",
    "filter_size2 = 5\n",
    "num_filters2 = 36\n",
    "num_classes = 10\n",
    "batch_size = 100\n",
    "training_epoch = 32\n",
    "learning_rate = 0.002"
   ]
  },
  {
   "cell_type": "code",
   "execution_count": 5,
   "metadata": {
    "collapsed": true
   },
   "outputs": [],
   "source": [
    "# labels of True_test_Data\n",
    "Y_test_cls = np.argmax(data.test.labels,1)"
   ]
  },
  {
   "cell_type": "code",
   "execution_count": 6,
   "metadata": {
    "collapsed": true
   },
   "outputs": [],
   "source": [
    "# function for plotting images\n",
    "def plot_img(images,Y_true_cls,Y_pred_cls = None):\n",
    "    assert len(images) == len(Y_true_cls) == 9\n",
    "    \n",
    "    fig,axes = plt.subplots(3,3)\n",
    "    fig.subplots_adjust(hspace = 0.3, wspace = 0.3)\n",
    "    \n",
    "    for i,ax in enumerate(axes.flat):\n",
    "        ax.imshow(images[i].reshape(img_shape), cmap ='binary')\n",
    "        \n",
    "        if Y_pred_cls is None:\n",
    "            xlabel = \"True:{0}\".format(Y_true_cls[i])\n",
    "        else:\n",
    "            xlabel = \"True:{0}, Pred:{1}\".format(Y_true_cls[i],Y_pred_cls[i])\n",
    "        ax.set_xlabel(xlabel)\n",
    "        \n",
    "        ax.set_xticks([])\n",
    "        ax.set_yticks([])\n",
    "    \n",
    "    plt.show()   "
   ]
  },
  {
   "cell_type": "code",
   "execution_count": 7,
   "metadata": {
    "collapsed": true
   },
   "outputs": [],
   "source": [
    "X = tf.placeholder(tf.float32 ,shape = [None,img_flat_length])\n",
    "\n",
    "X_img = tf.reshape(X,[-1,img_size,img_size,num_channel])\n",
    "\n",
    "Y = tf.placeholder(tf.float32, shape = [None, num_classes])"
   ]
  },
  {
   "cell_type": "code",
   "execution_count": 8,
   "metadata": {
    "collapsed": true
   },
   "outputs": [],
   "source": [
    "# wrap X_img with pretty tensor\n",
    "X_pretty = pt.wrap(X_img)"
   ]
  },
  {
   "cell_type": "code",
   "execution_count": 9,
   "metadata": {
    "collapsed": true
   },
   "outputs": [],
   "source": [
    "# make convolutional neural network and fully connected network with pretty tensor\n",
    "with pt.defaults_scope(activation_fn = tf.nn.relu):\n",
    "    Y_pred,cost = X_pretty.\\\n",
    "        conv2d(kernel = 5, depth = num_filters1, name =\"conv_layer1\").\\\n",
    "        max_pool(kernel = 2, stride = 2).\\\n",
    "        conv2d(kernel = 5, depth = num_filters2, name = \"conv_layer2\").\\\n",
    "        max_pool(kernel = 2, stride = 2).\\\n",
    "        flatten().\\\n",
    "        fully_connected(size = 128, name = \"fc_1\").\\\n",
    "        softmax_classifier(num_classes = num_classes, labels = Y)   "
   ]
  },
  {
   "cell_type": "code",
   "execution_count": 10,
   "metadata": {
    "collapsed": true
   },
   "outputs": [],
   "source": [
    "optimizer = tf.train.AdamOptimizer(learning_rate = learning_rate).minimize(cost)\n",
    "Y_pred_cls = tf.argmax(Y_pred,1)"
   ]
  },
  {
   "cell_type": "code",
   "execution_count": 11,
   "metadata": {
    "collapsed": true
   },
   "outputs": [],
   "source": [
    "is_correct = tf.equal(Y_pred_cls,tf.argmax(Y,1))\n",
    "\n",
    "Accuracy = tf.reduce_mean(tf.cast(is_correct,dtype = tf.float32))"
   ]
  },
  {
   "cell_type": "code",
   "execution_count": 12,
   "metadata": {
    "scrolled": true
   },
   "outputs": [
    {
     "name": "stdout",
     "output_type": "stream",
     "text": [
      "WARNING:tensorflow:From C:\\ProgramData\\Anaconda3\\envs\\py35\\lib\\site-packages\\tensorflow\\python\\util\\tf_should_use.py:175: initialize_all_variables (from tensorflow.python.ops.variables) is deprecated and will be removed after 2017-03-02.\n",
      "Instructions for updating:\n",
      "Use `tf.global_variables_initializer` instead.\n"
     ]
    }
   ],
   "source": [
    "# create Session and initialize all variables\n",
    "sess = tf.Session()\n",
    "sess.run(tf.initialize_all_variables())"
   ]
  },
  {
   "cell_type": "code",
   "execution_count": 13,
   "metadata": {},
   "outputs": [
    {
     "name": "stdout",
     "output_type": "stream",
     "text": [
      "epoch: 0 cost_val: 0.140985810709\n",
      "epoch: 1 cost_val: 0.0408402407421\n",
      "epoch: 2 cost_val: 0.0296938697209\n",
      "epoch: 3 cost_val: 0.0211919313496\n",
      "epoch: 4 cost_val: 0.014675883152\n",
      "epoch: 5 cost_val: 0.0136236179241\n",
      "epoch: 6 cost_val: 0.0134599432277\n",
      "epoch: 7 cost_val: 0.0101465872702\n",
      "epoch: 8 cost_val: 0.00899297732637\n",
      "epoch: 9 cost_val: 0.0101946207989\n",
      "epoch: 10 cost_val: 0.00865510522459\n",
      "epoch: 11 cost_val: 0.00772919782807\n",
      "epoch: 12 cost_val: 0.00650698481909\n",
      "epoch: 13 cost_val: 0.0056659844751\n",
      "epoch: 14 cost_val: 0.0044472361418\n",
      "epoch: 15 cost_val: 0.00592960693713\n",
      "epoch: 16 cost_val: 0.00522331116811\n",
      "epoch: 17 cost_val: 0.0066282322753\n",
      "epoch: 18 cost_val: 0.00569080195179\n",
      "epoch: 19 cost_val: 0.005281828662\n",
      "epoch: 20 cost_val: 0.00369785539264\n",
      "epoch: 21 cost_val: 0.00566620455501\n",
      "epoch: 22 cost_val: 0.00270179637554\n",
      "epoch: 23 cost_val: 0.00172048433831\n",
      "epoch: 24 cost_val: 0.00686959913594\n",
      "epoch: 25 cost_val: 0.00747851804317\n",
      "epoch: 26 cost_val: 0.00398931887464\n",
      "epoch: 27 cost_val: 0.00412362565303\n",
      "epoch: 28 cost_val: 0.00283722743307\n",
      "epoch: 29 cost_val: 0.00771102083422\n",
      "epoch: 30 cost_val: 0.00198594454941\n",
      "epoch: 31 cost_val: 0.00371929450167\n"
     ]
    }
   ],
   "source": [
    "# training\n",
    "for epoch in range(training_epoch):\n",
    "    cost_val = 0\n",
    "    total_batch = int(data.train.num_examples/batch_size)\n",
    "    for i in range(total_batch):\n",
    "        batch_xs, batch_ys = data.train.next_batch(batch_size)\n",
    "        c,_ = sess.run([cost,optimizer], feed_dict = {X:batch_xs,Y:batch_ys})\n",
    "        cost_val += c/total_batch\n",
    "    print(\"epoch:\",epoch ,\"cost_val:\",cost_val)"
   ]
  },
  {
   "cell_type": "code",
   "execution_count": 14,
   "metadata": {},
   "outputs": [
    {
     "name": "stdout",
     "output_type": "stream",
     "text": [
      "Accuracy is  0.9919\n"
     ]
    }
   ],
   "source": [
    "# calculate Accuracy\n",
    "Accuracy_val,correct,Y_pred_cls1 = sess.run([Accuracy,is_correct,Y_pred_cls], feed_dict = {X:data.test.images,Y:data.test.labels})\n",
    "print(\"Accuracy is \", Accuracy_val)"
   ]
  },
  {
   "cell_type": "code",
   "execution_count": 15,
   "metadata": {},
   "outputs": [
    {
     "data": {
      "image/png": "[encoded data removed]",
      "text/plain": [
       "<matplotlib.figure.Figure at 0x109f2780>"
      ]
     },
     "metadata": {},
     "output_type": "display_data"
    }
   ],
   "source": [
    "# plot examples of error\n",
    "def plot_examples_error():\n",
    "    incorrect = (correct == False)\n",
    "    \n",
    "    q = data.test.images[incorrect]\n",
    "    w = Y_test_cls[incorrect]\n",
    "    e = Y_pred_cls1[incorrect]\n",
    "    \n",
    "    q = q[0:9]\n",
    "    w = w[0:9]\n",
    "    e = e[0:9]\n",
    "    \n",
    "    plot_img(q,w,e)\n",
    "\n",
    "plot_examples_error()"
   ]
  },
  {
   "cell_type": "code",
   "execution_count": 16,
   "metadata": {},
   "outputs": [
    {
     "name": "stdout",
     "output_type": "stream",
     "text": [
      "[[ 979    0    0    0    0    0    1    0    0    0]\n",
      " [   1 1130    0    2    0    0    2    0    0    0]\n",
      " [   1    0 1026    1    1    0    0    2    1    0]\n",
      " [   0    0    1 1005    0    3    0    0    1    0]\n",
      " [   0    0    0    0  976    0    1    0    0    5]\n",
      " [   2    0    0    6    0  881    1    0    0    2]\n",
      " [   1    2    0    0    0    3  951    0    1    0]\n",
      " [   0    3    2    0    1    0    0 1008    1   13]\n",
      " [   3    0    0    1    0    1    0    0  966    3]\n",
      " [   0    0    0    0    7    1    0    2    2  997]]\n"
     ]
    },
    {
     "data": {
      "image/png": "[encoded data removed]",
      "text/plain": [
       "<matplotlib.figure.Figure at 0x119cec50>"
      ]
     },
     "metadata": {},
     "output_type": "display_data"
    }
   ],
   "source": [
    "# create confusion matrix\n",
    "def plot_confusion_matrix():\n",
    "    data_true1 = Y_test_cls\n",
    "    data_pred1 = Y_pred_cls1\n",
    "    \n",
    "    cm = confusion_matrix(data_true1,data_pred1)\n",
    "    \n",
    "    print(cm)\n",
    "    plt.matshow(cm)\n",
    "    \n",
    "    plt.colorbar()\n",
    "    tick_marks = np.arange(num_classes)\n",
    "    plt.xticks(tick_marks, range(num_classes))\n",
    "    plt.yticks(tick_marks, range(num_classes))\n",
    "    plt.xlabel('Predicted')\n",
    "    plt.ylabel('True')\n",
    "    \n",
    "    plt.show()\n",
    "\n",
    "plot_confusion_matrix()"
   ]
  }
 ],
 "metadata": {
  "kernelspec": {
   "display_name": "Python 3",
   "language": "python",
   "name": "python3"
  },
  "language_info": {
   "codemirror_mode": {
    "name": "ipython",
    "version": 3
   },
   "file_extension": ".py",
   "mimetype": "text/x-python",
   "name": "python",
   "nbconvert_exporter": "python",
   "pygments_lexer": "ipython3",
   "version": "3.5.3"
  }
 },
 "nbformat": 4,
 "nbformat_minor": 2
}
