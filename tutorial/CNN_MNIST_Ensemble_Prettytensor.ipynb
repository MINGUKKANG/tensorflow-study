{
 "cells": [
  {
   "cell_type": "code",
   "execution_count": 1,
   "metadata": {
    "collapsed": true
   },
   "outputs": [],
   "source": [
    "# ---------------------------------------------------------------------------------------------- \n",
    "# the purpose of this code is to classify mnist data with pretty tensor and ensemble\n",
    "# when i write this code, i refered to https://github.com/Hvass-Labs/TensorFlow-Tutorials   and \n",
    "# https://www.youtube.com/watch?v=c62uTWdhhMw&index=40&list=PLlMkM4tgfjnLSOjrEJN31gZATbcj_MpUm\n",
    "# I am not so good at English. So please be good to understand my awkward English. \n",
    "# ----------------------------------------------------------------------------------------------"
   ]
  },
  {
   "cell_type": "code",
   "execution_count": 2,
   "metadata": {
    "collapsed": true
   },
   "outputs": [],
   "source": [
    "# import modules\n",
    "import tensorflow as tf\n",
    "import numpy as np\n",
    "import matplotlib.pyplot as plt\n",
    "from sklearn.metrics import confusion_matrix\n",
    "import prettytensor as pt"
   ]
  },
  {
   "cell_type": "code",
   "execution_count": 3,
   "metadata": {},
   "outputs": [
    {
     "name": "stdout",
     "output_type": "stream",
     "text": [
      "Extracting data/MNIST/train-images-idx3-ubyte.gz\n",
      "Extracting data/MNIST/train-labels-idx1-ubyte.gz\n",
      "Extracting data/MNIST/t10k-images-idx3-ubyte.gz\n",
      "Extracting data/MNIST/t10k-labels-idx1-ubyte.gz\n"
     ]
    }
   ],
   "source": [
    "# import input_data\n",
    "from tensorflow.examples.tutorials.mnist import input_data\n",
    "data = input_data.read_data_sets('data/MNIST/',one_hot = True)"
   ]
  },
  {
   "cell_type": "code",
   "execution_count": 4,
   "metadata": {
    "collapsed": true
   },
   "outputs": [],
   "source": [
    "# parameta \n",
    "img_size = 28\n",
    "img_shape = (28,28)\n",
    "num_channel = 1\n",
    "img_flat_size = 28*28*1\n",
    "filter_size1 = 5\n",
    "filter_size2 = 5\n",
    "num_filters1 = 16\n",
    "num_filters2 = 36\n",
    "fc_size1= 128\n",
    "fc_size2 = 64\n",
    "num_classes = 10\n",
    "training_epoch = 32\n",
    "batch_size = 100\n",
    "learning_rate = 0.002"
   ]
  },
  {
   "cell_type": "code",
   "execution_count": 5,
   "metadata": {
    "collapsed": true
   },
   "outputs": [],
   "source": [
    "# concatenate train and validation data\n",
    "combined_images = np.concatenate([data.train.images,data.validation.images])\n",
    "combined_labels = np.concatenate([data.train.labels,data.validation.labels])"
   ]
  },
  {
   "cell_type": "code",
   "execution_count": 6,
   "metadata": {
    "collapsed": true
   },
   "outputs": [],
   "source": [
    "# calculate how many data_set exist.\n",
    "combined_size = len(combined_images) # 60000\n",
    "train_size = combined_size # 60000"
   ]
  },
  {
   "cell_type": "code",
   "execution_count": 7,
   "metadata": {
    "collapsed": true
   },
   "outputs": [],
   "source": [
    "# function for making random_training_set\n",
    "def shuffle_data():\n",
    "    idx = np.random.permutation(combined_size)\n",
    "    idx_train = idx[0:train_size]\n",
    "    \n",
    "    train_xs = combined_images\n",
    "    train_ys = combined_labels\n",
    "    \n",
    "    return train_xs, train_ys"
   ]
  },
  {
   "cell_type": "code",
   "execution_count": 8,
   "metadata": {
    "collapsed": true
   },
   "outputs": [],
   "source": [
    "# function for plotting images\n",
    "def plot_img(images, data_true,data_ensem_pred = None):\n",
    "    # debugging code\n",
    "    assert len(images) == len(data_true)\n",
    "    \n",
    "    fig,axes = plt.subplots(3,3)\n",
    "    fig.subplots_adjust(hspace = 1, wspace = 0.3)\n",
    "    \n",
    "    for i, ax in enumerate(axes.flat):\n",
    "        if i < len(images):\n",
    "            ax.imshow(images[i].reshape(img_shape), cmap = \"binary\")\n",
    "            \n",
    "            if data_ensem_pred is None:\n",
    "                xlabel = \"True:{0}\".format(data_true[i])\n",
    "            else:\n",
    "                xlabel = \"True:{0}\\nEnsemble_pred:{1}\".format(data_true[i],data_ensem_pred[i])\n",
    "            ax.set_xlabel(xlabel)\n",
    "        ax.set_xticks([])\n",
    "        ax.set_yticks([])\n",
    "    \n",
    "    plt.show()"
   ]
  },
  {
   "cell_type": "code",
   "execution_count": 9,
   "metadata": {
    "collapsed": true
   },
   "outputs": [],
   "source": [
    "Y_true_cls = np.argmax(data.test.labels,1)"
   ]
  },
  {
   "cell_type": "code",
   "execution_count": 10,
   "metadata": {
    "collapsed": true
   },
   "outputs": [],
   "source": [
    "# make class for using ensemble\n",
    "class Model:\n",
    "    def __init__(self,sess,name):\n",
    "        self.sess = sess\n",
    "        self.name = name\n",
    "        self.build_net()\n",
    "        \n",
    "    def build_net(self):\n",
    "        self.X = tf.placeholder(tf.float32, shape = [None,img_flat_size])\n",
    "        self.Y = tf.placeholder(tf.float32, shape = [None, num_classes])\n",
    "        self.X_img = tf.reshape(self.X,[-1,img_size,img_size,num_channel])\n",
    "        self.pretty_X = pt.wrap(self.X_img)\n",
    "        \n",
    "        with pt.defaults_scope(activation_fn = tf.nn.relu):\n",
    "            self.hypothesis, self.cost = self.pretty_X.\\\n",
    "                conv2d(kernel = filter_size1, depth = num_filters1, name = \"Convol_1\").\\\n",
    "                max_pool(kernel = 2, stride = 2).\\\n",
    "                conv2d(kernel = filter_size2, depth = num_filters2, name = \"convol_2\").\\\n",
    "                max_pool(kernel = 2 , stride = 2).\\\n",
    "                flatten().\\\n",
    "                fully_connected(size = fc_size1, name = \"fully_1\").\\\n",
    "                fully_connected(size = fc_size2, name = \"fully_2\").\\\n",
    "                softmax_classifier(num_classes = num_classes, labels = self.Y)\n",
    "        \n",
    "        self.optimizer = tf.train.AdamOptimizer(learning_rate = learning_rate).minimize(self.cost)\n",
    "        self.is_correct = tf.equal(tf.argmax(self.hypothesis,1), tf.argmax(self.Y,1))\n",
    "        self.Accuracy = tf.reduce_mean(tf.cast(self.is_correct, dtype = tf.float32))\n",
    "    \n",
    "    def train(self,train_data_xs,train_data_ys):\n",
    "        return self.sess.run([self.cost,self.optimizer],feed_dict = {self.X:train_data_xs, self.Y:train_data_ys})\n",
    "    \n",
    "    def predict(self,test_xs):\n",
    "        return self.sess.run([self.hypothesis], feed_dict = {self.X:test_xs})\n",
    "    \n",
    "    def Accuracy1(self,test_xs1,test_ys1):\n",
    "        return self.sess.run([self.Accuracy], feed_dict = {self.X:test_xs1, self.Y:test_ys1})   "
   ]
  },
  {
   "cell_type": "code",
   "execution_count": 11,
   "metadata": {},
   "outputs": [
    {
     "name": "stdout",
     "output_type": "stream",
     "text": [
      "WARNING:tensorflow:From C:\\ProgramData\\Anaconda3\\envs\\py35\\lib\\site-packages\\tensorflow\\python\\util\\tf_should_use.py:175: initialize_all_variables (from tensorflow.python.ops.variables) is deprecated and will be removed after 2017-03-02.\n",
      "Instructions for updating:\n",
      "Use `tf.global_variables_initializer` instead.\n"
     ]
    }
   ],
   "source": [
    "# make 5 models and save it model_saver\n",
    "sess = tf.Session()\n",
    "model_saver = []\n",
    "num_model = 4\n",
    "for m in range(num_model):\n",
    "    model_saver.append(Model(sess, \"Model\"+ str(m)))\n",
    "sess.run(tf.initialize_all_variables())"
   ]
  },
  {
   "cell_type": "code",
   "execution_count": 12,
   "metadata": {},
   "outputs": [
    {
     "name": "stdout",
     "output_type": "stream",
     "text": [
      "learning started\n",
      "------------------------------------------------------------------\n",
      "Ensemble: 0\n",
      "Epoch: 0 cost_val: 0.146321868652\n",
      "Epoch: 8 cost_val: 0.010544156523\n",
      "Epoch: 16 cost_val: 0.006540551563\n",
      "Epoch: 24 cost_val: 0.00664674890289\n",
      "------------------------------------------------------------------\n",
      "Ensemble: 1\n",
      "Epoch: 0 cost_val: 0.156311982651\n",
      "Epoch: 8 cost_val: 0.0120446715467\n",
      "Epoch: 16 cost_val: 0.0077303881559\n",
      "Epoch: 24 cost_val: 0.0067879781874\n",
      "------------------------------------------------------------------\n",
      "Ensemble: 2\n",
      "Epoch: 0 cost_val: 0.156885407757\n",
      "Epoch: 8 cost_val: 0.0102566180805\n",
      "Epoch: 16 cost_val: 0.00555503093477\n",
      "Epoch: 24 cost_val: 0.00525914835447\n",
      "------------------------------------------------------------------\n",
      "Ensemble: 3\n",
      "Epoch: 0 cost_val: 0.184826580401\n",
      "Epoch: 8 cost_val: 0.0154464795646\n",
      "Epoch: 16 cost_val: 0.00758010109218\n",
      "Epoch: 24 cost_val: 0.00438886451583\n",
      "------------------------------------------------------------------\n",
      "learning_finished\n",
      "------------------------------------------------------------------\n"
     ]
    }
   ],
   "source": [
    "# training\n",
    "print(\"learning started\")\n",
    "print(\"------------------------------------------------------------------\")\n",
    "for num_ensemble, worker in enumerate(model_saver):\n",
    "    print(\"Ensemble:\" ,num_ensemble)\n",
    "    train_shuffle_xs, train_shuffle_ys = shuffle_data()\n",
    "    for epoch in range(training_epoch):\n",
    "        cost_val = 0\n",
    "        total_batch = int(train_size/batch_size)\n",
    "        for b in range(total_batch):\n",
    "            batch_xs = train_shuffle_xs[100*b:100*b+100,:]\n",
    "            batch_ys = train_shuffle_ys[100*b:100*b+100,:]\n",
    "            c,_ = worker.train(batch_xs,batch_ys)\n",
    "            cost_val += c/ total_batch\n",
    "        if epoch %8 == 0:\n",
    "            print(\"Epoch:\",epoch,\"cost_val:\",cost_val)\n",
    "    print(\"------------------------------------------------------------------\")\n",
    "print(\"learning_finished\") \n",
    "print(\"------------------------------------------------------------------\")"
   ]
  },
  {
   "cell_type": "code",
   "execution_count": 13,
   "metadata": {},
   "outputs": [
    {
     "name": "stdout",
     "output_type": "stream",
     "text": [
      "[[0.991], [0.99129999], [0.99220002], [0.9903]]\n"
     ]
    }
   ],
   "source": [
    "# make Accuracy_saver for each model.\n",
    "Accuracy_saver = []\n",
    "\n",
    "# calculate each of model's Accuracy\n",
    "for num_ensemble,worker in enumerate(model_saver):\n",
    "    Accuracy_val = worker.Accuracy1(data.test.images,data.test.labels)\n",
    "    Accuracy_saver.append(Accuracy_val)\n",
    "\n",
    "print(Accuracy_saver)"
   ]
  },
  {
   "cell_type": "code",
   "execution_count": 14,
   "metadata": {
    "collapsed": true
   },
   "outputs": [],
   "source": [
    "# for calculating total Accuracy, we need to make total_prediction_value which is result from summing up all value \n",
    "# of prediction and dividing its number of models\n",
    "\n",
    "# make prediction_saver for each model\n",
    "prediction_saver = []\n",
    "\n",
    "# append hypothesis_val \n",
    "for num_ensemble, worker in enumerate(model_saver):\n",
    "    hypothesis_mean = 0\n",
    "    hypothesis_val = worker.predict(data.test.images)\n",
    "    prediction_saver.append(hypothesis_val)\n",
    "\n",
    "# make ensemble's predicion \n",
    "prediction_saver = np.array(prediction_saver)\n",
    "prediction_ensem = tf.reduce_mean(prediction_saver, axis =0)\n",
    "prediction_ensem_cls = tf.argmax(prediction_ensem,2)\n",
    "prediction_ensem_cls = tf.reshape(prediction_ensem_cls,[-1])"
   ]
  },
  {
   "cell_type": "code",
   "execution_count": 15,
   "metadata": {},
   "outputs": [
    {
     "name": "stdout",
     "output_type": "stream",
     "text": [
      "Ensemble_Accuracy\n",
      "0.9943000078201294\n"
     ]
    }
   ],
   "source": [
    "# calculate Accuracy\n",
    "is_correct_ensem = tf.equal(Y_true_cls,prediction_ensem_cls)\n",
    "Accuracy_ensem = tf.reduce_mean(tf.cast(is_correct_ensem, dtype = tf.float32))\n",
    "Ensemble_Accuracy,correct,prediction_ensem_cls1 = sess.run([Accuracy_ensem,is_correct_ensem,prediction_ensem_cls])\n",
    "print(\"Ensemble_Accuracy\\n{0}\".format(Ensemble_Accuracy))"
   ]
  },
  {
   "cell_type": "code",
   "execution_count": 16,
   "metadata": {},
   "outputs": [
    {
     "data": {
      "image/png": "[encoded data removed]",
      "text/plain": [
       "<matplotlib.figure.Figure at 0xdac70b8>"
      ]
     },
     "metadata": {},
     "output_type": "display_data"
    }
   ],
   "source": [
    "# plot examples of error\n",
    "def plot_examples_error():\n",
    "    incorrect = (correct == False)\n",
    "    \n",
    "    q = data.test.images[incorrect]\n",
    "    w = Y_true_cls[incorrect]\n",
    "    e = prediction_ensem_cls1[incorrect]\n",
    "    \n",
    "    q = q[0:9]\n",
    "    w = w[0:9]\n",
    "    e = e[0:9]\n",
    "    \n",
    "    plot_img(q,w,e)\n",
    "\n",
    "plot_examples_error()"
   ]
  },
  {
   "cell_type": "code",
   "execution_count": 17,
   "metadata": {},
   "outputs": [
    {
     "name": "stdout",
     "output_type": "stream",
     "text": [
      "[[ 976    0    0    0    0    0    2    1    1    0]\n",
      " [   0 1133    1    0    0    0    0    1    0    0]\n",
      " [   0    1 1028    0    0    0    0    3    0    0]\n",
      " [   0    0    0 1007    0    2    0    1    0    0]\n",
      " [   0    0    0    0  979    0    1    0    0    2]\n",
      " [   1    0    0    4    0  885    1    0    0    1]\n",
      " [   2    2    0    0    1    0  952    0    1    0]\n",
      " [   0    2    1    0    0    0    0 1024    1    0]\n",
      " [   2    0    2    1    0    1    0    0  965    3]\n",
      " [   0    0    0    0    7    4    0    3    1  994]]\n"
     ]
    },
    {
     "data": {
      "image/png": "[encoded data removed]",
      "text/plain": [
       "<matplotlib.figure.Figure at 0x146ebb00>"
      ]
     },
     "metadata": {},
     "output_type": "display_data"
    }
   ],
   "source": [
    "# create confusion matrix\n",
    "def plot_confusion_matrix():\n",
    "    data_true1 = Y_true_cls\n",
    "    data_pred1 = prediction_ensem_cls1\n",
    "    \n",
    "    cm = confusion_matrix(data_true1,data_pred1)\n",
    "    \n",
    "    print(cm)\n",
    "    plt.matshow(cm)\n",
    "    \n",
    "    plt.colorbar()\n",
    "    tick_marks = np.arange(num_classes)\n",
    "    plt.xticks(tick_marks, range(num_classes))\n",
    "    plt.yticks(tick_marks, range(num_classes))\n",
    "    plt.xlabel('Predicted')\n",
    "    plt.ylabel('True')\n",
    "    \n",
    "    plt.show()\n",
    "\n",
    "plot_confusion_matrix()"
   ]
  }
 ],
 "metadata": {
  "kernelspec": {
   "display_name": "Python 3",
   "language": "python",
   "name": "python3"
  },
  "language_info": {
   "codemirror_mode": {
    "name": "ipython",
    "version": 3
   },
   "file_extension": ".py",
   "mimetype": "text/x-python",
   "name": "python",
   "nbconvert_exporter": "python",
   "pygments_lexer": "ipython3",
   "version": "3.5.3"
  }
 },
 "nbformat": 4,
 "nbformat_minor": 2
}
